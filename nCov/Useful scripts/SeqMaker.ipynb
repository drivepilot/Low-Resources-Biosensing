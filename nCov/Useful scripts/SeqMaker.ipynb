{
 "cells": [
  {
   "cell_type": "code",
   "execution_count": 10,
   "metadata": {},
   "outputs": [],
   "source": [
    "seq = []\n",
    "output = \"\"\n",
    "nc = 0\n",
    "b = 0\n",
    "\n",
    "with open(\"nc_count.txt\", 'r') as infile:\n",
    "    line = infile.readline()\n",
    "    line = infile.readline().split('\\n')[0]\n",
    "    while line:\n",
    "        \n",
    "        line = line.split('\\t')\n",
    "        line = line[1:6]\n",
    "        \n",
    "        for i in range(0,5):\n",
    "            \n",
    "            if float(line[i]) > b:\n",
    "                b = float(line[i])\n",
    "                nc = i\n",
    "        \n",
    "        if nc == 0:\n",
    "            seq.append(\"a\")\n",
    "        elif nc == 1:\n",
    "            seq.append(\"t\")\n",
    "        elif nc == 2:\n",
    "            seq.append(\"g\")\n",
    "        elif nc == 3:\n",
    "            seq.append(\"c\")\n",
    "        \n",
    "        b = 0\n",
    "        line = infile.readline().split('\\n')[0]\n",
    "#         counter = counter + 1\n",
    "\n",
    "with open(\"consensusSeq.txt\", 'w') as outfile:\n",
    "    outfile.write(\">Consensus\\n\")\n",
    "    outfile.write(output.join(seq))\n",
    "        \n"
   ]
  }
 ],
 "metadata": {
  "kernelspec": {
   "display_name": "Python 3",
   "language": "python",
   "name": "python3"
  },
  "language_info": {
   "codemirror_mode": {
    "name": "ipython",
    "version": 3
   },
   "file_extension": ".py",
   "mimetype": "text/x-python",
   "name": "python",
   "nbconvert_exporter": "python",
   "pygments_lexer": "ipython3",
   "version": "3.7.7"
  }
 },
 "nbformat": 4,
 "nbformat_minor": 4
}
