{
 "cells": [
  {
   "cell_type": "code",
   "execution_count": 72,
   "metadata": {},
   "outputs": [
    {
     "data": {
      "image/png": "[encoded data removed]",
      "text/plain": [
       "<Figure size 432x288 with 1 Axes>"
      ]
     },
     "metadata": {
      "needs_background": "light"
     },
     "output_type": "display_data"
    }
   ],
   "source": [
    "%matplotlib inline\n",
    "import matplotlib.pyplot as plt\n",
    "\n",
    "totalseqs = 8124\n",
    "sumDiff = 0\n",
    "b=0\n",
    "variation = []\n",
    "counter = 0\n",
    "\n",
    "with open(\"nc_count.txt\", 'r') as infile:\n",
    "    line = infile.readline()\n",
    "    line = infile.readline().split('\\n')[0]\n",
    "    while line:\n",
    "        \n",
    "        line = line.split('\\t')\n",
    "        line = line[1:6]\n",
    "        \n",
    "        for i in range(0,5):\n",
    "            \n",
    "            if float(line[i]) > b:\n",
    "                sumDiff = sumDiff + b \n",
    "                b = float(line[i])\n",
    "\n",
    "            else:\n",
    "                sumDiff = sumDiff + float(line[i])\n",
    "        \n",
    "        b = 0\n",
    "        variation.append(sumDiff)\n",
    "        sumDiff = 0\n",
    "        line = infile.readline().split('\\n')[0]\n",
    "        counter = counter + 1\n",
    "        \n",
    "\n",
    "counter = 0\n",
    "plt.plot(variation,'.')\n",
    "plt.savefig('Variation.eps',format='eps')\n",
    "\n",
    "with open(\"Variation.txt\", 'w') as outfile:\n",
    "    for i in variation:\n",
    "        outfile.write(str(counter+1)+\"\\t\"+str(i)+\"\\n\")\n",
    "        counter = counter + 1\n",
    "         "
   ]
  },
  {
   "cell_type": "code",
   "execution_count": 45,
   "metadata": {},
   "outputs": [
    {
     "data": {
      "text/plain": [
       "5352.5"
      ]
     },
     "execution_count": 45,
     "metadata": {},
     "output_type": "execute_result"
    }
   ],
   "source": [
    "1126.5+1092.5+1100.5+2033"
   ]
  }
 ],
 "metadata": {
  "kernelspec": {
   "display_name": "Python 3",
   "language": "python",
   "name": "python3"
  },
  "language_info": {
   "codemirror_mode": {
    "name": "ipython",
    "version": 3
   },
   "file_extension": ".py",
   "mimetype": "text/x-python",
   "name": "python",
   "nbconvert_exporter": "python",
   "pygments_lexer": "ipython3",
   "version": "3.7.7"
  }
 },
 "nbformat": 4,
 "nbformat_minor": 4
}
